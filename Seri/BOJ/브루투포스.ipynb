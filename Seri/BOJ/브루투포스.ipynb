{
 "cells": [
  {
   "cell_type": "code",
   "execution_count": 4,
   "id": "a800d6c0",
   "metadata": {},
   "outputs": [
    {
     "name": "stdout",
     "output_type": "stream",
     "text": [
      "4\n",
      "0 10 15 20\n",
      "5 0 9 10\n",
      "6 13 0 12\n",
      "8 8 9 0\n"
     ]
    }
   ],
   "source": [
    "n = int(input())\n",
    "\n",
    "W = []\n",
    "went = []*n\n",
    "\n",
    "for _ in range(n): # 각 도시들 거치기\n",
    "    W.append(list(input().split()))\n",
    "    \n",
    "for i in range(n):\n",
    "    went[i] = 1\n",
    "   \n",
    "def dfs(start, now, )"
   ]
  },
  {
   "cell_type": "code",
   "execution_count": 6,
   "id": "a33adc2c",
   "metadata": {},
   "outputs": [
    {
     "data": {
      "text/plain": [
       "[['0', '10', '15', '20'],\n",
       " ['5', '0', '9', '10'],\n",
       " ['6', '13', '0', '12'],\n",
       " ['8', '8', '9', '0']]"
      ]
     },
     "execution_count": 6,
     "metadata": {},
     "output_type": "execute_result"
    }
   ],
   "source": [
    "W"
   ]
  },
  {
   "cell_type": "code",
   "execution_count": null,
   "id": "1bc4b77b",
   "metadata": {},
   "outputs": [],
   "source": [
    "0 10 15 20\n",
    "5 0 9 10\n",
    "6 13 0 12\n",
    "8 8 9 0"
   ]
  },
  {
   "cell_type": "code",
   "execution_count": 7,
   "id": "a55a0d79",
   "metadata": {},
   "outputs": [
    {
     "name": "stdout",
     "output_type": "stream",
     "text": [
      "9223372036854775807\n"
     ]
    }
   ],
   "source": [
    "import sys\n",
    "\n",
    "test = sys.maxsize\n",
    "print(test)"
   ]
  },
  {
   "cell_type": "code",
   "execution_count": null,
   "id": "4e03cd33",
   "metadata": {},
   "outputs": [],
   "source": []
  }
 ],
 "metadata": {
  "kernelspec": {
   "display_name": "Python 3 (ipykernel)",
   "language": "python",
   "name": "python3"
  },
  "language_info": {
   "codemirror_mode": {
    "name": "ipython",
    "version": 3
   },
   "file_extension": ".py",
   "mimetype": "text/x-python",
   "name": "python",
   "nbconvert_exporter": "python",
   "pygments_lexer": "ipython3",
   "version": "3.10.6"
  }
 },
 "nbformat": 4,
 "nbformat_minor": 5
}
