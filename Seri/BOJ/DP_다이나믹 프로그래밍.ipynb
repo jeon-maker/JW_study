{
 "cells": [
  {
   "cell_type": "markdown",
   "id": "74386bbf",
   "metadata": {},
   "source": [
    "# 2748번 피보나치 수 2(브론즈1)"
   ]
  },
  {
   "cell_type": "code",
   "execution_count": null,
   "id": "0641152c",
   "metadata": {},
   "outputs": [],
   "source": [
    "n = int(input())\n",
    "\n",
    "fiboo = []\n",
    "num = 0\n",
    "for i in range(n+1):\n",
    "    if i==0:\n",
    "        num = 0\n",
    "    elif i <= 2:\n",
    "        num = 1\n",
    "    else:\n",
    "        num = fiboo[-1]+fiboo[-2]\n",
    "    fiboo.append(num)ㅁㅇ\n",
    "print(fiboo[-1])"
   ]
  },
  {
   "cell_type": "markdown",
   "id": "948014f2",
   "metadata": {},
   "source": [
    "# 2775번 부녀회장이 될테야(브론즈1)"
   ]
  },
  {
   "cell_type": "code",
   "execution_count": 17,
   "id": "1ff895a9",
   "metadata": {},
   "outputs": [
    {
     "name": "stdout",
     "output_type": "stream",
     "text": [
      "2\n",
      "1\n",
      "3\n",
      "6\n",
      "2\n",
      "3\n",
      "10\n"
     ]
    }
   ],
   "source": [
    "t = int(input())\n",
    "\n",
    "num = 0\n",
    "for _ in range(t):\n",
    "    k = int(input())\n",
    "    n = int(input())\n",
    "    k0 = [x for x in range(1,n+1)]\n",
    "    for a in range(k):\n",
    "        for b in range(1,n):\n",
    "            k0[b] += k0[b-1]\n",
    "    print(k0[-1])"
   ]
  },
  {
   "cell_type": "markdown",
   "id": "3bb9d7f7",
   "metadata": {},
   "source": [
    "# 9656번 돌 게임 2(실버4)"
   ]
  },
  {
   "cell_type": "code",
   "execution_count": null,
   "id": "7a6f7cc5",
   "metadata": {},
   "outputs": [],
   "source": [
    "# 테스트 코드\n",
    "n = int(input())\n",
    "a = {'sk':0, 'cy':0}\n",
    "stone = 0\n",
    "while sum(a.values()) == n:\n",
    "    a['sk'] +=1\n",
    "    if a['sk'] == 1 or :\n",
    "        \n",
    "        a['sk']+=3"
   ]
  },
  {
   "cell_type": "code",
   "execution_count": null,
   "id": "0f76d6f1",
   "metadata": {},
   "outputs": [],
   "source": [
    "# 정답 코드\n",
    "n = int(input())\n",
    "print(\"CY\" if n % 2 else \"SK\")"
   ]
  },
  {
   "cell_type": "markdown",
   "id": "4b5fdcd9",
   "metadata": {},
   "source": [
    "# 1463번 1로 만들기(실버3)"
   ]
  },
  {
   "cell_type": "code",
   "execution_count": null,
   "id": "243ce2f4",
   "metadata": {},
   "outputs": [],
   "source": [
    "# 테스트 코드\n",
    "n = int(input())\n",
    "cnt = 0\n",
    "while n>0:\n",
    "    if n%3==0:\n",
    "        n = n//3\n",
    "        cnt+=1\n",
    "        if n==1:\n",
    "            break\n",
    "        if n%2==0:\n",
    "            n = n//2\n",
    "            cnt+=1\n",
    "    if n%2==0:\n",
    "        n = n//2\n",
    "        cnt+=1\n",
    "        if n==1:\n",
    "            break\n",
    "        if n%3==0:\n",
    "            n = n//3\n",
    "            cnt+=1\n",
    "    n = n-1\n",
    "    cnt +=1\n",
    "print(cnt)"
   ]
  },
  {
   "cell_type": "code",
   "execution_count": null,
   "id": "5428c5fb",
   "metadata": {},
   "outputs": [],
   "source": [
    "# 정답 코드\n",
    "n = int(input())\n",
    "d = [0] * (n + 1)\t## d에 계산된 값을 저장해둔다. n + 1이라고 한 이유는, 1번째 수는 사실 d[1]이 아니고 d[2]이기 때문에, 계산하기 편하게 d[1]을 1번째 인 것 처럼 만들어준다.\n",
    "\n",
    "print(d)\n",
    "for i in range(2, n + 1): # 11\n",
    "## 여기서 왜 if 1빼는 방법, 2 나누기, 3 나누기 동등하게 하지 않고 처음에 1을 빼고 시작하는지 의아해 할 수 있다.\n",
    "## 1을 빼고 시작하는 이유는 다음에 계산할 나누기가 1을 뺀 값보다 작거나 큼에 따라 어차피 교체되기 때문이다.\n",
    "## 즉 셋 다 시도하는 방법이 맞다.\n",
    "## 여기서 if elif else를 사용하면 안된다. if만 이용해야 세 연산을 다 거칠 수 있다, 가끔 if continue, else continue를 쓰는 분도 계신데, 난 이게 편한듯.\n",
    "    d[i] = d[i - 1] + 1\n",
    "    print(d[i])\n",
    "    if i % 3 == 0:\n",
    "        d[i] = min(d[i], d[i // 3] + 1)\t## 1을 더하는 것은 d는 결과가 아닌 계산한 횟수를 저장하는 것 이기 때문이다. d[i]에는 더하지 않는 이유는 이미 1을 뺄 때 1을 더해준 이력이 있기 때문이다.\n",
    "        print(d)\n",
    "    if i % 2 == 0:\n",
    "        d[i] = min(d[i], d[i // 2] + 1)\n",
    "        print(d)\n",
    "print(d[n])"
   ]
  }
 ],
 "metadata": {
  "kernelspec": {
   "display_name": "Python 3 (ipykernel)",
   "language": "python",
   "name": "python3"
  },
  "language_info": {
   "codemirror_mode": {
    "name": "ipython",
    "version": 3
   },
   "file_extension": ".py",
   "mimetype": "text/x-python",
   "name": "python",
   "nbconvert_exporter": "python",
   "pygments_lexer": "ipython3",
   "version": "3.10.6"
  }
 },
 "nbformat": 4,
 "nbformat_minor": 5
}
