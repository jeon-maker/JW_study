{
 "cells": [
  {
   "cell_type": "markdown",
   "id": "f0710220",
   "metadata": {},
   "source": [
    "# 15886번 내 선물을 받아줘2 (실버3)"
   ]
  },
  {
   "cell_type": "code",
   "execution_count": 17,
   "id": "b020269b",
   "metadata": {},
   "outputs": [
    {
     "name": "stdout",
     "output_type": "stream",
     "text": [
      "6\n",
      "eewwew\n",
      "2\n"
     ]
    }
   ],
   "source": [
    "n = int(input())\n",
    "mapp = input()\n",
    "\n",
    "cnt = 0\n",
    "for i in range(1, n):\n",
    "    if mapp[i] == 'W':\n",
    "        if mapp[i-1] == 'E':\n",
    "            cnt +=1\n",
    "        \n",
    "print(cnt)"
   ]
  },
  {
   "cell_type": "markdown",
   "id": "801a4a7a",
   "metadata": {},
   "source": [
    "# 2606번 바이러스(실버3)"
   ]
  },
  {
   "cell_type": "markdown",
   "id": "6212eed7",
   "metadata": {},
   "source": [
    "### 1. DFS 방식"
   ]
  },
  {
   "cell_type": "code",
   "execution_count": 48,
   "id": "35031e67",
   "metadata": {},
   "outputs": [
    {
     "name": "stdout",
     "output_type": "stream",
     "text": [
      "7\n",
      "6\n",
      "1 2\n",
      "2 3\n",
      "1 5\n",
      "5 2\n",
      "5 6\n",
      "4 7\n",
      "4\n"
     ]
    }
   ],
   "source": [
    "n = int(input())\n",
    "net = int(input())\n",
    "\n",
    "graph = [[]*n for _ in range(n+1)]\n",
    "for _ in range(net):\n",
    "    a,b = map(int,input().split())\n",
    "    graph[a].append(b)\n",
    "    graph[b].append(a)\n",
    "\n",
    "cnt = 0\n",
    "visited = [0]*(n+1)\n",
    "\n",
    "def dfs(start):\n",
    "    global cnt\n",
    "    visited[start] = 1\n",
    "    for i in graph[start]:\n",
    "        if visited[i]==0:\n",
    "            dfs(i)\n",
    "            cnt +=1\n",
    " \n",
    "dfs(1)\n",
    "print(cnt)"
   ]
  },
  {
   "cell_type": "markdown",
   "id": "d4880ac9",
   "metadata": {},
   "source": [
    "### 2. BFS 방식"
   ]
  },
  {
   "cell_type": "code",
   "execution_count": 52,
   "id": "7ca53bcc",
   "metadata": {},
   "outputs": [
    {
     "name": "stdout",
     "output_type": "stream",
     "text": [
      "7\n",
      "6\n",
      "1 2\n",
      "2 3\n",
      "1 5\n",
      "5 2\n",
      "5 6\n",
      "4 7\n",
      "[1]\n",
      "[]\n",
      "visited: 1\n",
      "[2]\n",
      "visited: 1\n",
      "[5]\n",
      "[5]\n",
      "visited: 1\n",
      "[3, 5]\n",
      "[3]\n",
      "[3]\n",
      "[3]\n",
      "visited: 1\n",
      "[6]\n",
      "[]\n",
      "4\n"
     ]
    }
   ],
   "source": [
    "n = int(input())\n",
    "net = int(input())\n",
    "\n",
    "graph = [[]*n for _ in range(n+1)]\n",
    "for _ in range(net):\n",
    "    a,b = map(int,input().split())\n",
    "    graph[a].append(b)\n",
    "    graph[b].append(a)\n",
    "\n",
    "cnt = 0\n",
    "visited = [0]*(n+1)\n",
    "\n",
    "def bfs(start):\n",
    "    global cnt\n",
    "    visited[start] = 1\n",
    "    queue = [start]\n",
    "    print(queue)\n",
    "    while queue:\n",
    "        for i in graph[queue.pop()]:\n",
    "            print(queue)\n",
    "            if visited[i]==0:\n",
    "                visited[i]=1\n",
    "                print(\"visited: %s\"%visited)\n",
    "                queue.insert(0,i)  # queue 배열 맨앞에 놓기\n",
    "                cnt +=1\n",
    " \n",
    "bfs(1)\n",
    "print(cnt)"
   ]
  },
  {
   "cell_type": "markdown",
   "id": "e70dfa7c",
   "metadata": {},
   "source": [
    "# 17204번 죽음의 게임"
   ]
  },
  {
   "cell_type": "code",
   "execution_count": 72,
   "id": "e94c226b",
   "metadata": {},
   "outputs": [
    {
     "name": "stdout",
     "output_type": "stream",
     "text": [
      "5 3\n",
      "1\n",
      "3\n",
      "2\n",
      "1\n",
      "4\n",
      "2\n"
     ]
    }
   ],
   "source": [
    "n, k = map(int, input().split())\n",
    "\n",
    "graph = [int(input()) for _ in range(n)]\n",
    "\n",
    "a = graph[0]\n",
    "\n",
    "arrlist = []\n",
    "\n",
    "for _ in range(n):\n",
    "    arrlist.append(a)\n",
    "    b = graph[a]\n",
    "    arrlist.append(b)\n",
    "    a = graph[b]\n",
    "    \n",
    "if k in arrlist:\n",
    "    print(arrlist.index(k) + 1)\n",
    "else:\n",
    "    print('-1')"
   ]
  },
  {
   "cell_type": "markdown",
   "id": "6b0bc270",
   "metadata": {},
   "source": [
    "# 25418번정수 a를 k로 만들기"
   ]
  },
  {
   "cell_type": "code",
   "execution_count": 80,
   "id": "eeb71a95",
   "metadata": {},
   "outputs": [
    {
     "name": "stdout",
     "output_type": "stream",
     "text": [
      "5 10\n",
      "1\n"
     ]
    }
   ],
   "source": [
    "a, k = map(int, input().split())\n",
    "\n",
    "cnt = 0\n",
    "\n",
    "while a!=k:\n",
    "    if k%2 == 0 or k >= a*2:\n",
    "        k = k//2\n",
    "        cnt += 1\n",
    "    else:\n",
    "        k -= 1\n",
    "        cnt += 1\n",
    "print(cnt)"
   ]
  },
  {
   "cell_type": "code",
   "execution_count": null,
   "id": "252e29db",
   "metadata": {},
   "outputs": [],
   "source": []
  },
  {
   "cell_type": "code",
   "execution_count": null,
   "id": "79df9200",
   "metadata": {},
   "outputs": [],
   "source": []
  },
  {
   "cell_type": "code",
   "execution_count": null,
   "id": "787db30d",
   "metadata": {},
   "outputs": [],
   "source": []
  },
  {
   "cell_type": "code",
   "execution_count": null,
   "id": "486f4bbe",
   "metadata": {},
   "outputs": [],
   "source": []
  },
  {
   "cell_type": "code",
   "execution_count": null,
   "id": "e81ff64e",
   "metadata": {},
   "outputs": [],
   "source": []
  },
  {
   "cell_type": "code",
   "execution_count": null,
   "id": "5e9b152d",
   "metadata": {},
   "outputs": [],
   "source": []
  },
  {
   "cell_type": "code",
   "execution_count": null,
   "id": "561b89c8",
   "metadata": {},
   "outputs": [],
   "source": []
  }
 ],
 "metadata": {
  "kernelspec": {
   "display_name": "Python 3 (ipykernel)",
   "language": "python",
   "name": "python3"
  },
  "language_info": {
   "codemirror_mode": {
    "name": "ipython",
    "version": 3
   },
   "file_extension": ".py",
   "mimetype": "text/x-python",
   "name": "python",
   "nbconvert_exporter": "python",
   "pygments_lexer": "ipython3",
   "version": "3.10.6"
  }
 },
 "nbformat": 4,
 "nbformat_minor": 5
}
