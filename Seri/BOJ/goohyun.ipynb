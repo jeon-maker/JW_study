{
 "cells": [
  {
   "cell_type": "markdown",
   "id": "18482ee3",
   "metadata": {},
   "source": [
    "# 2477번 참외밭\n",
    "https://itcrowd2016.tistory.com/84\n"
   ]
  },
  {
   "cell_type": "code",
   "execution_count": 52,
   "id": "601e450d",
   "metadata": {},
   "outputs": [
    {
     "name": "stdout",
     "output_type": "stream",
     "text": [
      "7\n",
      "4 50\n",
      "2 160\n",
      "3 30\n",
      "1 60\n",
      "3 20\n",
      "1 100\n"
     ]
    }
   ],
   "source": [
    "n = int(input())\n",
    "\n",
    "bat = [list(map(int, input().split())) for _ in range(6)]"
   ]
  },
  {
   "cell_type": "code",
   "execution_count": 53,
   "id": "a5d6ac8f",
   "metadata": {},
   "outputs": [],
   "source": [
    "w = 0; w_idx = 0\n",
    "l = 0; l_idx = 0\n",
    "for i in range(len(bat)):    \n",
    "    if bat[i][0] == 1 or bat[i][0] == 2:\n",
    "        if w < bat[i][1]:\n",
    "            w = bat[i][1]\n",
    "            w_idx = i\n",
    "    elif bat[i][0] == 3 or bat[i][0] == 4:\n",
    "        if l < bat[i][1]:\n",
    "            l = bat[i][1]\n",
    "            l_idx = i"
   ]
  },
  {
   "cell_type": "code",
   "execution_count": 71,
   "id": "0db7ac28",
   "metadata": {},
   "outputs": [
    {
     "name": "stdout",
     "output_type": "stream",
     "text": [
      "47600\n"
     ]
    }
   ],
   "source": [
    "# 가장 긴 각 세로변과 가로변에 붙어있는 가로 세로를 절대값으로 빼면 작은 사각형의 세로와 가로를 구할 수 있음\n",
    "\n",
    "W = abs(bat[(w_idx-1)%6][1] - bat[(w_idx+1)%6][1])\n",
    "L = abs(bat[(l_idx-1)%6][1] - bat[(l_idx+1)%6][1])  # %6을 안해주니까 런타임 에러가 났다. 인덱스가 6보다 크면 안되고 어떤 점에서 시작할지 모르기때문에 %6을 넣어야한다\n",
    "\n",
    "print(((w*l) - (W*L))*n)"
   ]
  },
  {
   "cell_type": "code",
   "execution_count": null,
   "id": "fe6113f5",
   "metadata": {},
   "outputs": [],
   "source": []
  }
 ],
 "metadata": {
  "kernelspec": {
   "display_name": "Python 3 (ipykernel)",
   "language": "python",
   "name": "python3"
  },
  "language_info": {
   "codemirror_mode": {
    "name": "ipython",
    "version": 3
   },
   "file_extension": ".py",
   "mimetype": "text/x-python",
   "name": "python",
   "nbconvert_exporter": "python",
   "pygments_lexer": "ipython3",
   "version": "3.10.6"
  }
 },
 "nbformat": 4,
 "nbformat_minor": 5
}
