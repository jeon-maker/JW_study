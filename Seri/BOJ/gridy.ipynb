{
 "cells": [
  {
   "cell_type": "markdown",
   "id": "3f0b39b0",
   "metadata": {},
   "source": [
    "# 16112번 5차 전직(실버2)\n",
    "https://www.acmicpc.net/problem/16112"
   ]
  },
  {
   "cell_type": "code",
   "execution_count": 27,
   "id": "f00fd870",
   "metadata": {},
   "outputs": [
    {
     "name": "stdout",
     "output_type": "stream",
     "text": [
      "3 1\n",
      "100 300 200\n",
      "500\n"
     ]
    }
   ],
   "source": [
    "n, act = map(int, input().split())\n",
    "\n",
    "k = list(map(int, input().split()))\n",
    "k.sort()  # 감소되는 경험치 최소화\n",
    "\n",
    "cnt, exp = 0, 0\n",
    "for i in range(n):\n",
    "    if cnt< act:\n",
    "        cnt+=1\n",
    "        exp -= k[i]\n",
    "    exp += k[i] * cnt\n",
    "print(exp)"
   ]
  },
  {
   "cell_type": "markdown",
   "id": "fe182458",
   "metadata": {},
   "source": [
    "# 1026번 보물(실버4)\n",
    "\n",
    "https://www.acmicpc.net/problem/1026"
   ]
  },
  {
   "cell_type": "code",
   "execution_count": 1,
   "id": "197f3b86",
   "metadata": {},
   "outputs": [
    {
     "name": "stdout",
     "output_type": "stream",
     "text": [
      "5\n",
      "1 1 1 6 0\n",
      "2 7 8 3 1\n"
     ]
    }
   ],
   "source": [
    "n = int(input())\n",
    "a = list(map(int, input().split()))\n",
    "b = list(map(int, input().split()))    "
   ]
  },
  {
   "cell_type": "code",
   "execution_count": 6,
   "id": "03d6dc33",
   "metadata": {},
   "outputs": [
    {
     "name": "stdout",
     "output_type": "stream",
     "text": [
      "18\n"
     ]
    }
   ],
   "source": [
    "a.sort()\n",
    "ans = 0\n",
    "\n",
    "for i in range(n):\n",
    "    x = a[i]\n",
    "    ans += x* max(b)\n",
    "    b.pop(b.index(max(b)))\n",
    "print(ans)"
   ]
  },
  {
   "cell_type": "markdown",
   "id": "3ea543ce",
   "metadata": {},
   "source": [
    "# 14247번 나무 자르기(실버2)\n",
    "https://www.acmicpc.net/problem/14247"
   ]
  },
  {
   "cell_type": "code",
   "execution_count": 5,
   "id": "e6a24a7b",
   "metadata": {},
   "outputs": [
    {
     "name": "stdout",
     "output_type": "stream",
     "text": [
      "5\n",
      "1 3 2 4 6\n",
      "2 7 3 4 1\n"
     ]
    }
   ],
   "source": [
    "n = int(input())\n",
    "\n",
    "hi = list(map(int, input().split()))\n",
    "ai = list(map(int, input().split()))"
   ]
  },
  {
   "cell_type": "code",
   "execution_count": 20,
   "id": "1f45d37d",
   "metadata": {},
   "outputs": [
    {
     "name": "stdout",
     "output_type": "stream",
     "text": [
      "64\n"
     ]
    }
   ],
   "source": [
    "arr = []\n",
    "total = 0\n",
    "\n",
    "arr = [[hi[i],ai[i]] for i in range(n)]\n",
    "arr.sort(key = lambda x:x[1]) #  성장속도가 1에 해당하는 값 기준으로 정렬\n",
    "\n",
    "for i in range(n):\n",
    "    total += arr[i][0] + arr[i][1] * i\n",
    "#     print(total)\n",
    "print(total)"
   ]
  },
  {
   "cell_type": "code",
   "execution_count": null,
   "id": "a8fc2059",
   "metadata": {},
   "outputs": [],
   "source": []
  }
 ],
 "metadata": {
  "kernelspec": {
   "display_name": "Python 3 (ipykernel)",
   "language": "python",
   "name": "python3"
  },
  "language_info": {
   "codemirror_mode": {
    "name": "ipython",
    "version": 3
   },
   "file_extension": ".py",
   "mimetype": "text/x-python",
   "name": "python",
   "nbconvert_exporter": "python",
   "pygments_lexer": "ipython3",
   "version": "3.10.6"
  }
 },
 "nbformat": 4,
 "nbformat_minor": 5
}
